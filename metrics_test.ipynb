{
 "cells": [
  {
   "cell_type": "code",
   "execution_count": 6,
   "metadata": {},
   "outputs": [
    {
     "name": "stderr",
     "output_type": "stream",
     "text": [
      "C:\\Users\\BInglis\\AppData\\Local\\Temp\\ipykernel_29440\\1844117018.py:4: DtypeWarning: Columns (2) have mixed types. Specify dtype option on import or set low_memory=False.\n",
      "  dataframe = pd.read_csv('test_data.csv')\n"
     ]
    },
    {
     "name": "stdout",
     "output_type": "stream",
     "text": [
      "-237867.5247842\n"
     ]
    }
   ],
   "source": [
    "import pandas as pd\n",
    "from account_organization import *\n",
    "\n",
    "dataframe = pd.read_csv('test_data.csv')\n",
    "\n",
    "filtered_df = dataframe[dataframe['Account Number'].isin(account_dict['EBITDA'])]\n",
    "\n",
    "adv = dataframe[dataframe['Account Number'].isin(account_dict['SG&A Advertising & Marketing'])]\n",
    "\n",
    "print(adv['Net Sign Rev'].sum())\n"
   ]
  },
  {
   "cell_type": "code",
   "execution_count": null,
   "metadata": {},
   "outputs": [],
   "source": []
  }
 ],
 "metadata": {
  "kernelspec": {
   "display_name": "Python 3",
   "language": "python",
   "name": "python3"
  },
  "language_info": {
   "codemirror_mode": {
    "name": "ipython",
    "version": 3
   },
   "file_extension": ".py",
   "mimetype": "text/x-python",
   "name": "python",
   "nbconvert_exporter": "python",
   "pygments_lexer": "ipython3",
   "version": "3.11.7"
  }
 },
 "nbformat": 4,
 "nbformat_minor": 2
}
